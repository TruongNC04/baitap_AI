{
  "cells": [
    {
      "attachments": {},
      "cell_type": "markdown",
      "metadata": {
        "id": "XWem5OoOFKsf",
        "pycharm": {
          "name": "#%% md\n"
        }
      },
      "source": [
        "# Visualizing Chipotle's Data"
      ]
    },
    {
      "attachments": {},
      "cell_type": "markdown",
      "metadata": {
        "id": "wJA2O_VFFKsi",
        "pycharm": {
          "name": "#%% md\n"
        }
      },
      "source": [
        "This time we are going to pull data directly from the internet.\n",
        "Special thanks to: https://github.com/justmarkham for sharing the dataset and materials.\n",
        "\n",
        "### Step 1. Import the necessary libraries"
      ]
    },
    {
      "cell_type": "code",
      "execution_count": null,
      "metadata": {
        "id": "FnEJ0XkyFKsi",
        "pycharm": {
          "name": "#%%\n"
        }
      },
      "outputs": [
        {
          "ename": "",
          "evalue": "",
          "output_type": "error",
          "traceback": [
            "\u001b[1;31mThe kernel failed to start as the Python Environment 'c:\\Program Files (x86)\\Microsoft Visual Studio\\Shared\\Python39_64\\python.exe' is no longer available. Consider selecting another kernel or refreshing the list of Python Environments."
          ]
        }
      ],
      "source": [
        "import pandas as pd\n",
        "import matplotlib.pyplot as plt\n",
        "from collections import Counter\n",
        "\n",
        "# set this so the graphs open internally\n",
        "%matplotlib inline"
      ]
    },
    {
      "attachments": {},
      "cell_type": "markdown",
      "metadata": {
        "id": "W2Kac56xFKsk",
        "pycharm": {
          "name": "#%% md\n"
        }
      },
      "source": [
        "### Step 2. Import the dataset from this [address](https://raw.githubusercontent.com/thieu1995/csv-files/main/data/pandas/chipotle.tsv)."
      ]
    },
    {
      "cell_type": "code",
      "execution_count": null,
      "metadata": {
        "colab": {
          "base_uri": "https://localhost:8080/",
          "height": 423
        },
        "id": "DZr0g4sNGJEq",
        "outputId": "6d7af06f-0d6e-4b46-9e16-035977b7a23b"
      },
      "outputs": [],
      "source": [
        "df=pd.read_csv(\"https://raw.githubusercontent.com/thieu1995/csv-files/main/data/pandas/chipotle.tsv\",sep='\\t')\n",
        "df"
      ]
    },
    {
      "attachments": {},
      "cell_type": "markdown",
      "metadata": {
        "id": "s0ebTf_qFKsk",
        "pycharm": {
          "name": "#%% md\n"
        }
      },
      "source": [
        "### Step 3. Assign it to a variable called chipo."
      ]
    },
    {
      "cell_type": "code",
      "execution_count": null,
      "metadata": {
        "colab": {
          "base_uri": "https://localhost:8080/",
          "height": 423
        },
        "id": "tLMBU-qsFKsl",
        "outputId": "874c7858-6d91-4fb6-8731-116881ca7d92",
        "pycharm": {
          "name": "#%%\n"
        }
      },
      "outputs": [],
      "source": [
        "chipo=df\n",
        "chipo"
      ]
    },
    {
      "attachments": {},
      "cell_type": "markdown",
      "metadata": {
        "id": "i1wngJB5FKsm",
        "pycharm": {
          "name": "#%% md\n"
        }
      },
      "source": [
        "### Step 4. See the first 10 entries"
      ]
    },
    {
      "cell_type": "code",
      "execution_count": null,
      "metadata": {
        "colab": {
          "base_uri": "https://localhost:8080/",
          "height": 363
        },
        "id": "ZczgxxX7FKsm",
        "outputId": "84a0910e-d6bc-47c6-e8f4-3288692c9f5e",
        "pycharm": {
          "name": "#%%\n"
        },
        "scrolled": false
      },
      "outputs": [],
      "source": [
        "chipo1=chipo.head(10)\n",
        "chipo1"
      ]
    },
    {
      "attachments": {},
      "cell_type": "markdown",
      "metadata": {
        "id": "RQqPMyvfFKsn",
        "pycharm": {
          "name": "#%% md\n"
        }
      },
      "source": [
        "### Step 5. Create a histogram of the top 5 items bought"
      ]
    },
    {
      "cell_type": "code",
      "execution_count": null,
      "metadata": {
        "colab": {
          "base_uri": "https://localhost:8080/"
        },
        "id": "zPEgsn7NisKd",
        "outputId": "f2f9edd9-02f7-453c-d7fa-0b6d4b6b415b"
      },
      "outputs": [],
      "source": [
        "b=chipo1['quantity'].head(5)\n",
        "b"
      ]
    },
    {
      "cell_type": "code",
      "execution_count": null,
      "metadata": {
        "colab": {
          "base_uri": "https://localhost:8080/",
          "height": 368
        },
        "id": "OIhj0YxjcIgm",
        "outputId": "a4a68c82-cc85-4973-9a5d-e0f9d4b92528"
      },
      "outputs": [],
      "source": [
        "\n",
        "a=chipo1['item_name'].head(5)\n",
        "b=chipo1['quantity'].head(5)\n",
        "\n",
        "plt.figure(figsize=(15,4))\n",
        "\n",
        "plt.hist(a,color='blue')\n",
        "plt.show()\n"
      ]
    },
    {
      "cell_type": "code",
      "execution_count": null,
      "metadata": {
        "colab": {
          "base_uri": "https://localhost:8080/"
        },
        "id": "R6V1Z75_FKsn",
        "outputId": "fb472f5f-9b65-461a-822b-67feaf2d1d75",
        "pycharm": {
          "name": "#%%\n"
        }
      },
      "outputs": [],
      "source": [
        "chipo1['item_name']"
      ]
    },
    {
      "attachments": {},
      "cell_type": "markdown",
      "metadata": {
        "id": "aREJWDN7FKsn",
        "pycharm": {
          "name": "#%% md\n"
        }
      },
      "source": [
        "### Step 6. Create a scatterplot with the number of items orderered per order price\n",
        "#### Hint: Price should be in the X-axis and Items ordered in the Y-axis"
      ]
    },
    {
      "cell_type": "code",
      "execution_count": null,
      "metadata": {
        "colab": {
          "base_uri": "https://localhost:8080/",
          "height": 1000
        },
        "id": "hn-_aiSrFKso",
        "outputId": "2fd6dd2b-d63b-4dc5-a7f5-391130e0cd5b",
        "pycharm": {
          "name": "#%%\n"
        }
      },
      "outputs": [],
      "source": [
        "plt.style.use('seaborn-whitegrid')\n",
        "price= chipo['item_price']\n",
        "items=chipo['item_name']\n",
        "plt.figure(figsize=(50,15))\n",
        "plt.scatter(price,items,color='green')\n",
        "plt.show()"
      ]
    },
    {
      "attachments": {},
      "cell_type": "markdown",
      "metadata": {
        "id": "MCxeMdweFKso",
        "pycharm": {
          "name": "#%% md\n"
        }
      },
      "source": [
        "### Step 7. BONUS: Create a question and a graph to answer your own question."
      ]
    },
    {
      "attachments": {},
      "cell_type": "markdown",
      "metadata": {
        "id": "qsBhx_akohup"
      },
      "source": [
        "Create a bar of the top 5 items bought"
      ]
    },
    {
      "cell_type": "code",
      "execution_count": null,
      "metadata": {
        "colab": {
          "base_uri": "https://localhost:8080/",
          "height": 363
        },
        "id": "qTFDg3_RFKso",
        "outputId": "baf7de6b-ee3c-427a-8e71-f9a19a281783",
        "pycharm": {
          "name": "#%%\n"
        }
      },
      "outputs": [],
      "source": [
        "\n",
        "a=chipo1['item_name'].head(5)\n",
        "b=chipo1['quantity'].head(5)\n",
        "\n",
        "plt.figure(figsize=(15,4))\n",
        "\n",
        "plt.bar(a,b,color='blue')\n",
        "plt.show()"
      ]
    }
  ],
  "metadata": {
    "colab": {
      "provenance": []
    },
    "kernelspec": {
      "display_name": "Python 3",
      "language": "python",
      "name": "python3"
    },
    "language_info": {
      "codemirror_mode": {
        "name": "ipython",
        "version": 3
      },
      "file_extension": ".py",
      "mimetype": "text/x-python",
      "name": "python",
      "nbconvert_exporter": "python",
      "pygments_lexer": "ipython3",
      "version": "3.9.13"
    }
  },
  "nbformat": 4,
  "nbformat_minor": 0
}
